{
 "cells": [
  {
   "cell_type": "markdown",
   "id": "797a6a13-c798-4ed4-a26a-6799e38a9335",
   "metadata": {},
   "source": [
    "# Linear Regression Model for Salary Prediction Based on Years of Experience"
   ]
  },
  {
   "cell_type": "markdown",
   "id": "f4701b75-8f9f-4475-9f65-72cccabfed4f",
   "metadata": {
    "jp-MarkdownHeadingCollapsed": true
   },
   "source": [
    "## Imports"
   ]
  },
  {
   "cell_type": "code",
   "execution_count": 16,
   "id": "4bdd794f-7f90-4d8b-9365-ec64843eb342",
   "metadata": {},
   "outputs": [],
   "source": [
    "import numpy as np\n",
    "import pandas as pd\n",
    "import matplotlib.pyplot as plt\n",
    "from sklearn.model_selection import train_test_split\n",
    "from sklearn.linear_model import LinearRegression\n",
    "from sklearn.metrics import mean_squared_error, mean_absolute_error, r2_score"
   ]
  },
  {
   "cell_type": "markdown",
   "id": "f94d2018-5d69-4824-8566-80d723d10a22",
   "metadata": {
    "jp-MarkdownHeadingCollapsed": true
   },
   "source": [
    "## Data Information"
   ]
  },
  {
   "cell_type": "code",
   "execution_count": 17,
   "id": "a05dd383-7074-4071-9cc5-de5e5cef0cdb",
   "metadata": {},
   "outputs": [
    {
     "name": "stdout",
     "output_type": "stream",
     "text": [
      "Info:\n",
      "<class 'pandas.core.frame.DataFrame'>\n",
      "RangeIndex: 35 entries, 0 to 34\n",
      "Data columns (total 2 columns):\n",
      " #   Column           Non-Null Count  Dtype  \n",
      "---  ------           --------------  -----  \n",
      " 0   YearsExperience  35 non-null     float64\n",
      " 1   Salary           35 non-null     int64  \n",
      "dtypes: float64(1), int64(1)\n",
      "memory usage: 692.0 bytes\n",
      "\n",
      "∙∙∙∙∙∙∙∙∙∙∙∙∙∙∙∙∙∙∙∙∙∙∙∙∙∙∙∙∙∙∙∙∙∙∙∙∙∙∙∙\n",
      "\n",
      "Columns:\n",
      "Index(['YearsExperience', 'Salary'], dtype='object')\n",
      "\n",
      "∙∙∙∙∙∙∙∙∙∙∙∙∙∙∙∙∙∙∙∙∙∙∙∙∙∙∙∙∙∙∙∙∙∙∙∙∙∙∙∙\n",
      "\n",
      "Head:\n",
      "   YearsExperience  Salary\n",
      "0              1.1   39343\n",
      "1              1.3   46205\n",
      "2              1.5   37731\n",
      "3              2.0   43525\n",
      "4              2.2   39891\n"
     ]
    }
   ],
   "source": [
    "# Reading CSV data\n",
    "salary = pd.read_csv('../input/salary.csv')\n",
    "\n",
    "# Data information\n",
    "print('Info:')\n",
    "salary.info()\n",
    "print(\"\\n\" + \"∙\"*40 + \"\\n\")\n",
    "\n",
    "# Data columns\n",
    "print('Columns:')\n",
    "print(salary.columns)\n",
    "print(\"\\n\" + \"∙\"*40 + \"\\n\")\n",
    "\n",
    "# Data head\n",
    "print('Head:')\n",
    "print(salary.head())"
   ]
  },
  {
   "cell_type": "markdown",
   "id": "4ca6577a-213b-494c-bc65-695693000e87",
   "metadata": {
    "jp-MarkdownHeadingCollapsed": true
   },
   "source": [
    "## Training the Model"
   ]
  },
  {
   "cell_type": "code",
   "execution_count": 21,
   "id": "eb5f1e38-1976-41f4-8716-b93a1ffad7d3",
   "metadata": {},
   "outputs": [
    {
     "data": {
      "text/plain": [
       "((28, 1), (7, 1), (28,), (7,))"
      ]
     },
     "execution_count": 21,
     "metadata": {},
     "output_type": "execute_result"
    }
   ],
   "source": [
    "# Target and Features\n",
    "X = salary[['YearsExperience']]\n",
    "y = salary['Salary']\n",
    "\n",
    "# Train test split\n",
    "X_train, X_test, y_train, y_test = train_test_split(X, y, train_size=0.8, random_state=42)\n",
    "X_train.shape, X_test.shape, y_train.shape, y_test.shape"
   ]
  },
  {
   "cell_type": "code",
   "execution_count": 22,
   "id": "4ec898a6-1f53-4d7e-ae80-9b34a34baefd",
   "metadata": {},
   "outputs": [],
   "source": [
    "# Select model and train\n",
    "model = LinearRegression()\n",
    "model.fit(X_train, y_train)\n",
    "\n",
    "# Predictions\n",
    "y_pred_train = model.predict(X_train)\n",
    "y_pred_test = model.predict(X_test)"
   ]
  },
  {
   "cell_type": "markdown",
   "id": "998a1930-f562-44c8-8912-28ba4bfd469b",
   "metadata": {
    "jp-MarkdownHeadingCollapsed": true
   },
   "source": [
    "## Model Performance"
   ]
  },
  {
   "cell_type": "markdown",
   "id": "68cad9ab-b8c4-42c7-aedb-9d716c786b55",
   "metadata": {
    "jp-MarkdownHeadingCollapsed": true
   },
   "source": [
    "### Metrics for Train"
   ]
  },
  {
   "cell_type": "code",
   "execution_count": 28,
   "id": "9f038ae5-240f-463a-9361-f99d3db097a8",
   "metadata": {},
   "outputs": [
    {
     "name": "stdout",
     "output_type": "stream",
     "text": [
      "   ∙ MSE Train ∙  ∙ MAE Train ∙  ∙ R2 Train ∙\n",
      "0    30888963.78        4651.97          0.97\n"
     ]
    }
   ],
   "source": [
    "# Metrics\n",
    "mse_train = mean_squared_error(y_train, y_pred_train)\n",
    "mae_train = mean_absolute_error(y_train, y_pred_train)\n",
    "r2_train = r2_score(y_train, y_pred_train)\n",
    "\n",
    "# Displaying train metrics\n",
    "metrics = {\n",
    "    \"∙ MSE Train ∙\": round(mse_train, 2),\n",
    "    \"∙ MAE Train ∙\": round(mae_train, 2),\n",
    "    \"∙ R2 Train ∙\": round(r2_train, 2),\n",
    "}\n",
    "\n",
    "train_metrics_df = pd.DataFrame(metrics, index=[0])\n",
    "print(train_metrics_df)"
   ]
  },
  {
   "cell_type": "markdown",
   "id": "38a1da4a-6e56-443a-aeca-4cd36a15d2b5",
   "metadata": {
    "jp-MarkdownHeadingCollapsed": true
   },
   "source": [
    "### Metrics for Test"
   ]
  },
  {
   "cell_type": "code",
   "execution_count": 29,
   "id": "d72a58bc-d6c3-468d-9d2f-f975ccc2df3e",
   "metadata": {},
   "outputs": [
    {
     "name": "stdout",
     "output_type": "stream",
     "text": [
      "   ∙ MSE Test ∙  ∙ MAE Test ∙  ∙ R2 Test ∙\n",
      "0   55761791.31       6692.36         0.89\n"
     ]
    }
   ],
   "source": [
    "# Metrics\n",
    "mse_test = mean_squared_error(y_test, y_pred_test)\n",
    "mae_test = mean_absolute_error(y_test, y_pred_test)\n",
    "r2_test = r2_score(y_test, y_pred_test)\n",
    "\n",
    "# Displaying train metrics\n",
    "metrics = {\n",
    "    \"∙ MSE Test ∙\": round(mse_test, 2),\n",
    "    \"∙ MAE Test ∙\": round(mae_test, 2),\n",
    "    \"∙ R2 Test ∙\": round(r2_test, 2),\n",
    "}\n",
    "\n",
    "train_metrics_df = pd.DataFrame(metrics, index=[0])\n",
    "print(train_metrics_df)"
   ]
  },
  {
   "cell_type": "markdown",
   "id": "fc695d20-b425-4124-99a4-fe7b9895c6f8",
   "metadata": {
    "jp-MarkdownHeadingCollapsed": true
   },
   "source": [
    "## Data Visualization"
   ]
  },
  {
   "cell_type": "code",
   "execution_count": 30,
   "id": "f22d68cc-2227-4b41-8ede-d9bfca8647cc",
   "metadata": {},
   "outputs": [
    {
     "data": {
      "image/png": "[encoded data removed]",
      "text/plain": [
       "<Figure size 1200x600 with 2 Axes>"
      ]
     },
     "metadata": {},
     "output_type": "display_data"
    }
   ],
   "source": [
    "# Plotting the data and the regression line\n",
    "plt.figure(figsize=(12, 6))\n",
    "\n",
    "# Training data\n",
    "plt.subplot(1, 2, 1)\n",
    "plt.scatter(X_train, y_train, color='blue', label='Training data')\n",
    "plt.plot(X_train, y_pred_train, color='red', linewidth=2, label='Regression line')\n",
    "plt.title('Training Data')\n",
    "plt.xlabel('Feature')\n",
    "plt.ylabel('Target')\n",
    "plt.legend()\n",
    "\n",
    "# Testing data\n",
    "plt.subplot(1, 2, 2)\n",
    "plt.scatter(X_test, y_test, color='green', label='Testing data')\n",
    "plt.plot(X_train, y_pred_train, color='red', linewidth=2, label='Regression line')\n",
    "plt.title('Testing Data')\n",
    "plt.xlabel('Feature')\n",
    "plt.ylabel('Target')\n",
    "plt.legend()\n",
    "\n",
    "plt.show()"
   ]
  }
 ],
 "metadata": {
  "kernelspec": {
   "display_name": "Python 3 (ipykernel)",
   "language": "python",
   "name": "python3"
  },
  "language_info": {
   "codemirror_mode": {
    "name": "ipython",
    "version": 3
   },
   "file_extension": ".py",
   "mimetype": "text/x-python",
   "name": "python",
   "nbconvert_exporter": "python",
   "pygments_lexer": "ipython3",
   "version": "3.12.4"
  }
 },
 "nbformat": 4,
 "nbformat_minor": 5
}
